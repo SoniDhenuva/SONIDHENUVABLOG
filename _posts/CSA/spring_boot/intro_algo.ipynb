{
 "cells": [
  {
   "cell_type": "code",
   "execution_count": null,
   "id": "5957a207",
   "metadata": {
    "vscode": {
     "languageId": "java"
    }
   },
   "outputs": [],
   "source": [
    "public class Book {\n",
    "    // Attributes\n",
    "    String title;\n",
    "    String author;\n",
    "    int pages;\n",
    "    \n",
    "    // Constructor\n",
    "    public Book(String title, String author, int pages) {\n",
    "        this.title = title;\n",
    "        this.author = author;\n",
    "        this.pages = pages;\n",
    "    }\n",
    "    \n",
    "    // Display info\n",
    "    public void displayInfo() {\n",
    "        System.out.println(\"Title: \" + title);\n",
    "        System.out.println(\"Author: \" + author);\n",
    "        System.out.println(\"Pages: \" + pages);\n",
    "    }\n",
    "    \n",
    "    // Check if long\n",
    "    public boolean isLong() {\n",
    "        return pages > 300;\n",
    "    }\n",
    "    \n",
    "    // Test\n",
    "    public static void main(String[] args) {\n",
    "        Book myBook = new Book(\"Java Basics\", \"Soni Dhenuva\", 350);\n",
    "        myBook.displayInfo();\n",
    "        System.out.println(\"Is long? \" + myBook.isLong());\n",
    "    }\n",
    "}"
   ]
  }
 ],
 "metadata": {
  "kernelspec": {
   "display_name": "java (JJava/j!)",
   "language": "java",
   "name": "jbang-jjava"
  },
  "language_info": {
   "codemirror_mode": "java",
   "file_extension": ".jshell",
   "mimetype": "text/x-java-source",
   "name": "Java",
   "pygments_lexer": "java",
   "version": "17.0.16+8-Ubuntu-0ubuntu124.04.1"
  }
 },
 "nbformat": 4,
 "nbformat_minor": 5
}
