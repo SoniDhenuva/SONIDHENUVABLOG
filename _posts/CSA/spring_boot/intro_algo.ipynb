{
 "cells": [
  {
   "cell_type": "code",
   "execution_count": null,
   "id": "5957a207",
   "metadata": {
    "vscode": {
     "languageId": "java"
    }
   },
   "outputs": [],
   "source": [
    "public class Dog {\n",
    "\n",
    "    String name;\n",
    "    String breed;\n",
    "\n",
    "    public Dog(String name, String breed) {\n",
    "        this.name = name;\n",
    "        this.breed = breed;\n",
    "    }\n",
    "\n",
    "    public void printInfo() {\n",
    "        System.out.println(\"My dog \" + name + \" is a \" + breed + \"!\");\n",
    "    }\n",
    "\n",
    "    public static void main(String[] args) {\n",
    "        Dog myDog = new Dog(\"Buddy\", \"Golden Retriever\");\n",
    "        myDog.printInfo();\n",
    "    }\n",
    "}"
   ]
  }
 ],
 "metadata": {
  "kernelspec": {
   "display_name": "java (JJava/j!)",
   "language": "java",
   "name": "jbang-jjava"
  },
  "language_info": {
   "codemirror_mode": "java",
   "file_extension": ".jshell",
   "mimetype": "text/x-java-source",
   "name": "Java",
   "pygments_lexer": "java",
   "version": "17.0.16+8-Ubuntu-0ubuntu124.04.1"
  }
 },
 "nbformat": 4,
 "nbformat_minor": 5
}
