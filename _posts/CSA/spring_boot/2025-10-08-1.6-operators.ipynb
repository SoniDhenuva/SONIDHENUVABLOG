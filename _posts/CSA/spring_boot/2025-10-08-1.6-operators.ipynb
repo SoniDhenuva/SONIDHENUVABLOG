{
 "cells": [
  {
   "cell_type": "markdown",
   "id": "462043ad",
   "metadata": {
    "vscode": {
     "languageId": "raw"
    }
   },
   "source": [
    "---\n",
    "title: Compound Assignment Operators Homework\n",
    "layout: post\n",
    "type: hacks\n",
    "comments: true\n",
    "title: Introduction to Algorithms, Programming, and Compilers\n",
    "courses: {csa: {week: 3}}\n",
    "type: ccc\n",
    "---\n"
   ]
  },
  {
   "cell_type": "markdown",
   "id": "905edd5c",
   "metadata": {},
   "source": [
    "## Popcorn Hack Number 1"
   ]
  },
  {
   "cell_type": "code",
   "execution_count": 3,
   "id": "9e967683",
   "metadata": {
    "vscode": {
     "languageId": "java"
    }
   },
   "outputs": [
    {
     "name": "stdout",
     "output_type": "stream",
     "text": [
      "Score: 2500\n"
     ]
    }
   ],
   "source": [
    "int playerScore = 1000;\n",
    "int playerHealth = 100;\n",
    "int enemiesDefeated = 0;\n",
    "\n",
    "// Player defeats an enemy worth 250 points\n",
    "playerScore += 250;\n",
    "\n",
    "// Player takes 15 damage\n",
    "playerHealth -= 15;\n",
    "\n",
    "// Enemy count goes up\n",
    "enemiesDefeated ++;\n",
    "\n",
    "// Boss battle: double the current score!\n",
    "playerScore *= 2;\n",
    "\n",
    "// Healing potion restores health to 80% of current\n",
    "playerHealth *= 4;\n",
    "playerHealth /= 5;  // 4/5 = 0.8, but we need integer math\n",
    "\n",
    "System.out.println(\"Score: \" + playerScore);"
   ]
  },
  {
   "cell_type": "markdown",
   "id": "4f36f871",
   "metadata": {},
   "source": [
    "## Popcorn Hack #2"
   ]
  },
  {
   "cell_type": "code",
   "execution_count": 8,
   "id": "294426e7",
   "metadata": {
    "vscode": {
     "languageId": "java"
    }
   },
   "outputs": [
    {
     "name": "stdout",
     "output_type": "stream",
     "text": [
      "Score: 295\n"
     ]
    }
   ],
   "source": [
    "int score = 100;\n",
    "score -= 10; //sub 10\n",
    "score *=23; // multiply by 23\n",
    "score /=7; //divide 7\n",
    "\n",
    "System.out.println(\"Score: \" + score);"
   ]
  },
  {
   "cell_type": "markdown",
   "id": "a116690a",
   "metadata": {},
   "source": [
    "## Homework Fitness Progress Tracker"
   ]
  },
  {
   "cell_type": "code",
   "execution_count": 14,
   "id": "8cd39378",
   "metadata": {
    "vscode": {
     "languageId": "java"
    }
   },
   "outputs": [
    {
     "name": "stdout",
     "output_type": "stream",
     "text": [
      "Your current balance is: 1000000\n",
      "You withdrew: 50000\n",
      "Your current balance after withdrawl: 950000\n",
      "You deposited: 10000\n",
      "Your current balance after deposit: 960000\n",
      "You earned 5% interest\n",
      "Your current balance after interest: 1008000\n"
     ]
    }
   ],
   "source": [
    "int balance = 1000000;\n",
    "System.out.println(\"Your current balance is: \" + balance);\n",
    "\n",
    "balance -= 50000; // withdraw 50,000\n",
    "System.out.println(\"You withdrew: \" + 50000);\n",
    "System.out.println(\"Your current balance after withdrawl: \" + balance);\n",
    "\n",
    "balance += 10000; // deposit 10,000\n",
    "System.out.println(\"You deposited: \" + 10000);\n",
    "System.out.println(\"Your current balance after deposit: \" + balance);\n",
    "\n",
    "balance *= 1.05; //  5% interest\n",
    "System.out.println(\"You earned 5% interest\");\n",
    "System.out.println(\"Your current balance after interest: \" + balance);"
   ]
  }
 ],
 "metadata": {
  "kernelspec": {
   "display_name": "java (JJava/j!)",
   "language": "java",
   "name": "jbang-jjava"
  },
  "language_info": {
   "codemirror_mode": "java",
   "file_extension": ".jshell",
   "mimetype": "text/x-java-source",
   "name": "Java",
   "pygments_lexer": "java",
   "version": "17.0.16+8-Ubuntu-0ubuntu124.04.1"
  }
 },
 "nbformat": 4,
 "nbformat_minor": 5
}
