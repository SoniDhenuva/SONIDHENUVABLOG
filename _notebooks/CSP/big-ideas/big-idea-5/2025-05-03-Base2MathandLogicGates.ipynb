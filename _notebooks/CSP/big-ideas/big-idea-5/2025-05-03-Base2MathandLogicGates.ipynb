{
 "cells": [
  {
   "cell_type": "markdown",
   "id": "686eb459",
   "metadata": {},
   "source": [
    "---\n",
    "layout: post\n",
    "categories: [CSP Sprint Objectives]\n",
    "title: Big Idea Base 2 Math and Logic Gates\n",
    "description:  Software Development using Frontend and Backend Technologies \n",
    "type: issues \n",
    "courses: { csp: {week: 28} }\n",
    "comments: true\n",
    "---"
   ]
  },
  {
   "cell_type": "markdown",
   "id": "cf1fe369",
   "metadata": {},
   "source": [
    "# Popcorn Hack 1: Examples for Identifying Binary\n",
    "\n",
    "## Example 1:\n",
    "**Number:** `101010`  \n",
    "Yes – only contains 0s and 1s.\n",
    "\n",
    "## Example 2:\n",
    "**Number:** `12301`  \n",
    " No – contains digits other than 0 and 1 \n",
    "\n",
    "## Example 3:\n",
    "**Number:** `11001`  \n",
    "Yes – only contains 0s and 1s.\n"
   ]
  },
  {
   "cell_type": "markdown",
   "id": "86041f54",
   "metadata": {},
   "source": [
    "# Popcorn Hack 2: Examples for Adding and Subtracting Binary\n",
    "\n",
    "## Example 1: Adding Binary Numbers 101 + 110\n",
    "  101  \n",
    "+ 110  \n",
    "------\n",
    "  1011\n",
    "Number 11\n",
    "\n",
    "## Example 2: Subtracting Binary Numbers 1101 - 1011\n",
    "  1101  \n",
    "- 1011  \n",
    "------\n",
    "  0010\n",
    "Number 10\n",
    "\n",
    "## Example 3: Adding Binary Numbers 111 + 1001\n",
    "   111  \n",
    "+ 1001  \n",
    "------\n",
    "  1110\n",
    "Number 14"
   ]
  },
  {
   "cell_type": "markdown",
   "id": "66ecc484",
   "metadata": {},
   "source": [
    "# Popcorn Hack 1\n",
    " 1. True or (False and False)\n",
    "      True\n",
    "\n",
    "2. (not True) and False\n",
    "      False\n",
    "\n",
    "3. True or (False and (not False))\n",
    "      True"
   ]
  },
  {
   "cell_type": "markdown",
   "id": "4d412832",
   "metadata": {},
   "source": [
    "# Homework\n",
    "\n",
    "## Homework Hacks: Binary Converter\n",
    "\n",
    "### Task:\n",
    "Your task is to write a program that converts between decimal and binary numbers.\n",
    "\n",
    "### Instructions:\n",
    "- Create a function to convert a decimal number to binary.\n",
    "- Create a function to convert a binary number (as a string) back to decimal.\n",
    "- Test your functions with different numbers, both positive and negative.\n",
    "\n",
    "\n",
    "```python\n",
    "# Function to convert decimal to binary\n",
    "def decimal_to_binary(decimal):\n",
    "    if decimal < 0:\n",
    "        return '-' + bin(decimal)[3:]  # Handles negative numbers\n",
    "    return bin(decimal)[2:]\n",
    "\n",
    "# Function to convert binary to decimal\n",
    "def binary_to_decimal(binary):\n",
    "    return int(binary, 2)\n",
    "\n",
    "# Test with some numbers\n",
    "decimal_number = 10\n",
    "binary_number = \"1010\"\n",
    "\n",
    "print(f\"Decimal to Binary: {decimal_number} → {decimal_to_binary(decimal_number)}\")\n",
    "print(f\"Binary to Decimal: {binary_number} → {binary_to_decimal(binary_number)}\")\n",
    "\n",
    "\n",
    "\n",
    "\n"
   ]
  },
  {
   "cell_type": "markdown",
   "id": "734bd15d",
   "metadata": {
    "vscode": {
     "languageId": "plaintext"
    }
   },
   "source": [
    "\n",
    "## Homework Hack 2: Difficulty Level Checker\n",
    "\n",
    "\n",
    "```python\n",
    "import time\n",
    "\n",
    "difficulty = input(\"Enter difficulty (easy, medium, hard): \").lower().strip()\n",
    "\n",
    "while difficulty != \"easy\" and difficulty != \"medium\" and difficulty != \"hard\":\n",
    "    print(\"Please enter a valid difficulty level.\")\n",
    "    difficulty = input(\"Enter difficulty (easy, medium, hard): \").lower().strip()\n",
    "    time.sleep(0.5)\n",
    "\n",
    "print(\"Difficulty set to:\", difficulty)"
   ]
  }
 ],
 "metadata": {
  "language_info": {
   "name": "python"
  }
 },
 "nbformat": 4,
 "nbformat_minor": 5
}
