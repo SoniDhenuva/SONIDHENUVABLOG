{
 "cells": [
  {
   "cell_type": "markdown",
   "metadata": {},
   "source": [
    "---\n",
    "layout: post\n",
    "categories: [CSP Sprint Objectives]\n",
    "title: Big Idea 5.6 Lists and Alogrithms\n",
    "description:  Software Development using Frontend and Backend Technologies \n",
    "type: issues \n",
    "courses: { csp: {week: 29} }\n",
    "comments: true\n",
    "---"
   ]
  },
  {
   "cell_type": "markdown",
   "metadata": {},
   "source": [
    "# Popcorn Hack 1\n",
    "What are some possible benefits of using lists? What are some real world examples of lists being used in code ?\n",
    "\n",
    "Lists are super helpful because they let you keep a bunch of related stuff in one place, like names or numbers. You’ll see them used in code for things like to-do apps, shopping carts, or even game scoreboards.\n"
   ]
  },
  {
   "cell_type": "markdown",
   "metadata": {},
   "source": [
    "# Homework Hack"
   ]
  },
  {
   "cell_type": "code",
   "execution_count": null,
   "metadata": {},
   "outputs": [],
   "source": [
    "# 1 Create a list of five movies\n",
    "my_list = [\"Inception\", \"The Matrix\", \"Avatar\", \"The Lion King\", \"Titanic\"]\n",
    "\n",
    "# List Procedures:\n",
    "# Procedure 1: Adding an item to the list\n",
    "my_list.append(\"Interstellar\")  # Adding \"Interstellar\" to the end of the list\n",
    "\n",
    "# Procedure 2: Removing an item from the list\n",
    "my_list.remove(\"Titanic\")  # Removing \"Titanic\" from the list\n",
    "\n",
    "# Procedure 3: Sorting the list\n",
    "my_list.sort()  # Sorting the list in alphabetical order\n",
    "\n",
    "# List Traversal Instructions:\n",
    "# Traversing through the list one movie at a time using a 'for' loop\n",
    "print(\"Movies in the list:\")\n",
    "for movie in my_list:\n",
    "    print(movie)  # This will print each movie in the list\n",
    "\n",
    "# Filtering Algorithm (Use pandas - database filtering):\n",
    "import pandas as pd\n",
    "\n",
    "# Convert list to pandas Series\n",
    "my_series = pd.Series(my_list)\n",
    "\n",
    "# Apply filtering condition (length of movie title > 7 characters)\n",
    "filtered_movies = my_series[my_series.str.len() > 7]\n",
    "\n",
    "# Print the filtered list\n",
    "print(\"\\nMovies with titles longer than 7 characters:\")\n",
    "print(filtered_movies)\n"
   ]
  },
  {
   "cell_type": "markdown",
   "metadata": {},
   "source": [
    "\n",
    "## Final Reflection:\n",
    "Filtering algorithms and lists are used in real life to organize and select data,such as when choosing movies based on genres or ratings. They help make decision-making processes faster and more efficient by focusing on the most relevant information.\n"
   ]
  }
 ],
 "metadata": {
  "language_info": {
   "name": "python"
  }
 },
 "nbformat": 4,
 "nbformat_minor": 2
}
