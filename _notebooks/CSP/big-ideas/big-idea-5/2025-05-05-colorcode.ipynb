{
 "cells": [
  {
   "cell_type": "markdown",
   "id": "66d8d0d4",
   "metadata": {},
   "source": []
  },
  {
   "cell_type": "markdown",
   "id": "03349163",
   "metadata": {},
   "source": [
    "# Popcorn Hack 1\n",
    "\n",
    "### 1Which image format is best for logos and transparency?\n",
    "**Answer:** PNG\n",
    "\n",
    "### Which format loses quality to make the file size smaller?\n",
    "**Answer:** JPEG\n",
    "\n",
    "### Which format is used for simple animations, like memes?\n",
    "**Answer:** GIF\n"
   ]
  },
  {
   "cell_type": "markdown",
   "id": "2e664580",
   "metadata": {},
   "source": [
    "# Popcorn Hack 2\n",
    "\n",
    "### Question:\n",
    "What does this Base64 string decode to? `U1Q=`\n",
    "\n",
    "### Answer:\n",
    "The Base64 string `U1Q=` decodes to **\"ST\"**.\n"
   ]
  },
  {
   "cell_type": "markdown",
   "id": "29b2d622",
   "metadata": {},
   "source": [
    "# Homework Hack: Make a Mood Board with Hex Colors\n",
    "```html\n",
    "<!DOCTYPE html>\n",
    "<html lang=\"en\">\n",
    "<head>\n",
    "  <meta charset=\"UTF-8\">\n",
    "  <meta name=\"viewport\" content=\"width=device-width, initial-scale=1.0\">\n",
    "  <title>Mood Board</title>\n",
    "  <style>\n",
    "    .color-block {\n",
    "      height: 100px;\n",
    "      width: 100px;\n",
    "      margin: 10px;\n",
    "      display: inline-block;\n",
    "    }\n",
    "  </style>\n",
    "</head>\n",
    "<body>\n",
    "  <div class=\"color-block\" style=\"background-color: #FF5733;\"></div>\n",
    "  <div class=\"color-block\" style=\"background-color: #33FF57;\"></div>\n",
    "  <div class=\"color-block\" style=\"background-color: #3357FF;\"></div>\n",
    "  <div class=\"color-block\" style=\"background-color: #F0E68C;\"></div>\n",
    "  <div class=\"color-block\" style=\"background-color: #800080;\"></div>\n",
    "</body>\n",
    "</html>\n"
   ]
  },
  {
   "cell_type": "markdown",
   "id": "a0dc1b04",
   "metadata": {},
   "source": [
    "# Homework Hack 2\n",
    "\n",
    "<!DOCTYPE html>\n",
    "<html lang=\"en\">\n",
    "<head>\n",
    "  <meta charset=\"UTF-8\">\n",
    "  <meta name=\"viewport\" content=\"width=device-width, initial-scale=1.0\">\n",
    "  <title>Profile Picture</title>\n",
    "</head>\n",
    "<body>\n",
    "  <img src=\"\" alt=\"Profile Picture\">\n",
    "</body>\n",
    "</html>\n",
    "\n",
    "## I tried it doesnt work\n"
   ]
  }
 ],
 "metadata": {
  "language_info": {
   "name": "python"
  }
 },
 "nbformat": 4,
 "nbformat_minor": 5
}
