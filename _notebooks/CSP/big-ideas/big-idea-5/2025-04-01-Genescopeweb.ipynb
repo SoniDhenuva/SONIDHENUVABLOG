{
 "cells": [
  {
   "cell_type": "markdown",
   "metadata": {},
   "source": [
    "---\n",
    "layout: post\n",
    "categories: [CSP Sprint Objectives]\n",
    "title: GeneScope Final Deployed\n",
    "description:  \n",
    "type: issues \n",
    "courses: { csp: {week: 31} }\n",
    "comments: true\n",
    "---"
   ]
  },
  {
   "cell_type": "markdown",
   "metadata": {},
   "source": [
    "# About Genescope\n",
    "Genescope is an interactive educational website designed to teach students about genomics and DNA sequencing through engaging visuals, activities, and real-world applications. Powered by Illumina technology, Genescope helps learners explore how genetics impacts health, traits, and biodiversity—all in a way that’s fun and easy to understand.\n",
    "\n",
    "\n"
   ]
  },
  {
   "cell_type": "markdown",
   "metadata": {},
   "source": [
    "# CLick Button Below\n",
    "<button onclick=\"https://open-coding-society.github.io/genescope/\"></button>"
   ]
  },
  {
   "cell_type": "code",
   "execution_count": null,
   "metadata": {},
   "outputs": [],
   "source": []
  }
 ],
 "metadata": {
  "language_info": {
   "name": "python"
  }
 },
 "nbformat": 4,
 "nbformat_minor": 2
}
