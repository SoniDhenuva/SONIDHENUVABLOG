{
 "cells": [
  {
   "cell_type": "markdown",
   "metadata": {},
   "source": [
    "---\n",
    "layout: post\n",
    "categories: [CSP Sprint Objectives]\n",
    "title: The Final for Tri 3\n",
    "description:  \n",
    "type: issues \n",
    "courses: { csp: {week: 32} }\n",
    "comments: true\n",
    "---"
   ]
  },
  {
   "cell_type": "markdown",
   "metadata": {},
   "source": [
    "# My Future After CSP\n",
    "\n",
    "## Intended Majors  \n",
    "**Computer Science** & **Aerospace Engineering**\n",
    "\n",
    "---\n",
    "\n",
    "## Future Steps  \n",
    "I plan to take **AP Computer Science A (CSA)** next year and apply to summer programs like **Pilot City** and others that will help me grow as a programmer and problem-solver. These experiences will support my long-term goal of working at the intersection of software and aerospace systems.\n",
    "\n",
    "---\n",
    "\n",
    "## Skills  \n",
    "\n",
    "I aim to build on my current skills (listed below) to expand my network, qualify for more internships, and continue developing a strong foundation for a career in computer science and engineering.\n",
    "\n",
    "### Soft Skills  \n",
    "- **Communication & Collaboration** – Learned how to work effectively in large teams and leverage individual strengths and weaknesses for the group’s success.  \n",
    "- **Time Management** – Gained experience meeting project deadlines and checkpoints; realized the importance of not procrastinating to avoid stress and rushed work.   \n",
    "- **Adaptability** – Learned to adjust quickly to new tools, workflows, and project pivots in a fast-paced team environment.  \n",
    "- **Problem Solving** – Tackled bugs, design issues, and development challenges using creativity, research, and teamwork.\n",
    "\n",
    "### Hard Skills  \n",
    "- **Programming Languages** – Python, JavaScript, HTML/CSS, Tailwind  \n",
    "- **CS Principles** – Learned key AP CSP concepts such as internet infrastructure, binary, cybersecurity, and hardware fundamentals  \n",
    "- **Full Stack Development** – Built and deployed full-stack applications; gained hands-on experience with frontend/backend integration and using API keys effectively\n",
    "\n",
    "---\n",
    "\n",
    "## Main Projects  \n",
    "- [Holiday Giftinator](#)  \n",
    "- [Genescope](#)\n",
    "\n",
    "---\n",
    "\n",
    "## LinkedIn Page  \n",
    "- [LinkedIn](#)\n",
    "\n",
    "## Resume  \n",
    "- [Resume](#) (also available on LinkedIn)\n"
   ]
  }
 ],
 "metadata": {
  "language_info": {
   "name": "python"
  }
 },
 "nbformat": 4,
 "nbformat_minor": 2
}
