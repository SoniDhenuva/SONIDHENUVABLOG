{
 "cells": [
  {
   "cell_type": "markdown",
   "metadata": {},
   "source": [
    "---\n",
    "layout: post\n",
    "categories: [CSP Sprint Objectives]\n",
    "title: Big Idea 3.2 Big O and Algorithm Efficiency\n",
    "description:  Software Development using Frontend and Backend Technologies \n",
    "type: issues \n",
    "courses: { csp: {week: 29} }\n",
    "comments: true\n",
    "---"
   ]
  },
  {
   "cell_type": "markdown",
   "metadata": {},
   "source": [
    "# Popcorn Hack – The Even/Odd Check Challenge\n",
    "**Challenge**: You need to check if a number is even or odd. Which TWO strategies are the most efficient?\n",
    "\n",
    "1. Divide the number by 2 and check if the result is a whole number.\n",
    "2. Check if the last digit is 0, 2, 4, 6, or 8 manually\n",
    "3. Use the modulus operator (%) to check if the remainder when divided by 2 is 0\n",
    "4. Convert the number to a string and check if the last character is an even digit.\n",
    "5. Subtract 2 repeatedly until you reach 0 or 1, then check the result.\n",
    "6. Generate a list of all even numbers and check if the number is in the list.\n",
    "7. Interactive Tip: Write down your answer and explain in two sentences why your choices are the most efficient. (Hint: Methods with O(1) complexity are best for this check.)\n",
    "\n",
    "ANSWER = 2 and 3 \n",
    "2 --> Only one action step (check if the last element is even)\n",
    "3 --> only one step (check remainder)"
   ]
  },
  {
   "cell_type": "markdown",
   "metadata": {},
   "source": [
    "# Homework Hack 1"
   ]
  },
  {
   "cell_type": "code",
   "execution_count": null,
   "metadata": {},
   "outputs": [],
   "source": [
    "import random\n",
    "import time\n",
    "\n",
    "# Bubble Sort Function\n",
    "def bubble_sort(arr):\n",
    "    n = len(arr)\n",
    "    for i in range(n):\n",
    "        for j in range(0, n - i - 1):\n",
    "            if arr[j] > arr[j + 1]:\n",
    "                arr[j], arr[j + 1] = arr[j + 1], arr[j]\n",
    "\n",
    "# Merge Sort Function\n",
    "def merge_sort(arr):\n",
    "    if len(arr) > 1:\n",
    "        mid = len(arr) // 2\n",
    "        left = arr[:mid]\n",
    "        right = arr[mid:]\n",
    "\n",
    "        merge_sort(left)\n",
    "        merge_sort(right)\n",
    "\n",
    "        i = j = k = 0\n",
    "\n",
    "        while i < len(left) and j < len(right):\n",
    "            if left[i] < right[j]:\n",
    "                arr[k] = left[i]\n",
    "                i += 1\n",
    "            else:\n",
    "                arr[k] = right[j]\n",
    "                j += 1\n",
    "            k += 1\n",
    "\n",
    "        while i < len(left):\n",
    "            arr[k] = left[i]\n",
    "            i += 1\n",
    "            k += 1\n",
    "\n",
    "        while j < len(right):\n",
    "            arr[k] = right[j]\n",
    "            j += 1\n",
    "            k += 1\n",
    "\n",
    "# Generate random list\n",
    "original_list = [random.randint(1, 1000) for _ in range(100)]\n",
    "\n",
    "# Time Bubble Sort\n",
    "bubble_list = original_list[:]\n",
    "start_bubble = time.time()\n",
    "bubble_sort(bubble_list)\n",
    "end_bubble = time.time()\n",
    "bubble_time = end_bubble - start_bubble\n",
    "\n",
    "# Time Merge Sort\n",
    "merge_list = original_list[:]\n",
    "start_merge = time.time()\n",
    "merge_sort(merge_list)\n",
    "end_merge = time.time()\n",
    "merge_time = end_merge - start_merge\n",
    "\n",
    "# Output the results\n",
    "print(f\"Bubble Sort Time: {bubble_time:.6f} seconds\")\n",
    "print(f\"Merge Sort Time: {merge_time:.6f} seconds\")\n",
    "\n",
    "if bubble_time < merge_time:\n",
    "    print(\"Bubble Sort is faster.\")\n",
    "else:\n",
    "    print(\"Merge Sort is faster.\")\n"
   ]
  },
  {
   "cell_type": "markdown",
   "metadata": {},
   "source": [
    "# Final Question Answer\n",
    "Why does Merge Sort consistently outperform Bubble Sort?\n",
    "Merge Sort uses a split up and try approach with O(n log n) time complexity, while Bubble Sort has a much slower O(n^2) complexity. As the dataset grows, Bubble Sort takes a lot more time due to repeated comparisons and swaps.\n"
   ]
  },
  {
   "cell_type": "markdown",
   "metadata": {},
   "source": [
    "# Homework Hack 2\n",
    "\n"
   ]
  },
  {
   "cell_type": "code",
   "execution_count": null,
   "metadata": {},
   "outputs": [],
   "source": [
    "import random\n",
    "\n",
    "# Linear Search Function\n",
    "def linear_search(arr, target):\n",
    "    count = 0\n",
    "    for i in range(len(arr)):\n",
    "        count += 1\n",
    "        if arr[i] == target:\n",
    "            return count\n",
    "    return -1\n",
    "\n",
    "# Binary Search Function\n",
    "def binary_search(arr, target):\n",
    "    left, right = 0, len(arr) - 1\n",
    "    count = 0\n",
    "    while left <= right:\n",
    "        count += 1\n",
    "        mid = (left + right) // 2\n",
    "        if arr[mid] == target:\n",
    "            return count\n",
    "        elif arr[mid] < target:\n",
    "            left = mid + 1\n",
    "        else:\n",
    "            right = mid - 1\n",
    "    return -1\n",
    "\n",
    "# Create a sorted list of 100,000 numbers\n",
    "data = list(range(1, 100001))\n",
    "\n",
    "# Pick a random number from the list\n",
    "target = random.choice(data)\n",
    "\n",
    "# Perform searches\n",
    "linear_comparisons = linear_search(data, target)\n",
    "binary_comparisons = binary_search(data, target)\n",
    "\n",
    "# Print results\n",
    "print(f\"Target Number: {target}\")\n",
    "print(f\"Linear Search Comparisons: {linear_comparisons}\")\n",
    "print(f\"Binary Search Comparisons: {binary_comparisons}\")\n"
   ]
  },
  {
   "cell_type": "markdown",
   "metadata": {},
   "source": [
    "### Final Questions\n",
    "1. Which search algorithm is faster, and why?\n",
    "Binary Search is faster because it divides the list in half each time (O(log n)) while Linear Search checks one element at a time (O(n)).\n",
    "\n",
    "2. What happens if you run both searches on an unsorted list?\n",
    "Binary Search won't work correctly because it relies on the list being sorted. Linear Search still works because it just checks each element one by one."
   ]
  }
 ],
 "metadata": {
  "language_info": {
   "name": "python"
  }
 },
 "nbformat": 4,
 "nbformat_minor": 2
}
