{
 "cells": [
  {
   "cell_type": "markdown",
   "metadata": {},
   "source": [
    "---\n",
    "layout: post\n",
    "categories: [CSP Sprint Objectives]\n",
    "title: Big Idea 5.2 Digital Divide\n",
    "description:  Software Development using Frontend and Backend Technologies \n",
    "type: issues \n",
    "courses: { csp: {week: 26} }\n",
    "comments: true\n",
    "---"
   ]
  },
  {
   "cell_type": "markdown",
   "metadata": {},
   "source": [
    "# In Class Notes\n",
    "\n",
    "## Key Concpets\n",
    "### **What is the Digital Divide?**\n",
    "- Inequality in access to technology and the internet.\n",
    "- Affects education, employment, healthcare, and community participation.\n",
    "\n",
    "### **Why Does the Digital Divide Exist?**\n",
    "- **Economic Privilege** – Wealthier areas have better tech infrastructure.\n",
    "- **Geographical Location** – Rural and border areas lack investment.\n",
    "- **Societal Factors** – Language barriers, historical inequalities, and political representation.\n",
    "\n",
    "### **Why is Technology Access Important?**\n",
    "| Area | Benefits of Digital Access | Consequences Without Access |\n",
    "|------|---------------------------|----------------------------|\n",
    "| Education  | Online learning, research | Lower academic performance |\n",
    "| Employment  | Job searching, remote work | Fewer job opportunities |\n",
    "| Healthcare  | Telemedicine, online records | Limited medical services |\n",
    "| Community  | Civic engagement, social connection | Reduced participation |\n",
    "\n",
    "## **Ethical & Societal Concerns**\n",
    "- **Fairness**: Equal access to technology is a basic need.\n",
    "- **Social Justice**: Tech gaps reinforce inequality.\n",
    "- **Responsibility**: Governments, corporations, and communities must work together.\n",
    "\n",
    "## **Bridging the Digital Divide**\n",
    "1. **Improve Infrastructure** – Expand internet access in rural areas.\n",
    "2. **Subsidize Devices & Internet** – Provide affordable access to low-income families.\n",
    "3. **Create Inclusive Technology** – Develop accessible and diverse computing innovations.\n",
    "4. **Public Policies** – Support legislation for affordable internet.\n",
    "\n",
    "## **Discussion Questions**\n",
    "- How have you seen the digital divide impact education or employment?\n",
    "- Can you think of a computing innovation that unintentionally excludes certain groups?\n",
    "\n",
    "Technology access is a necessity, and bridging the digital divide is essential for creating an equitable future.\n"
   ]
  },
  {
   "cell_type": "markdown",
   "metadata": {},
   "source": [
    "# Popcorn Hack #1\n",
    "### Identify one area (e.g., education, employment, healthcare, or community participation) where you’ve seen the digital divide in action. How does it affect people in different socioeconomic backgrounds?\n"
   ]
  },
  {
   "cell_type": "markdown",
   "metadata": {},
   "source": [
    "# Popcorn Hack #2\n",
    "### Can you think of a computing innovation that might unintentionally exclude certain groups? Why might that happen?\n",
    "One commputing innovation that might unintentionally exclude certian groups could just be a phone or ipad or a computer for group who dont have the capability to use this hands. Simple, everyday, technolgy like phone may be difficult for people with disabilities to be able use --> thus unintentionally excluding them."
   ]
  },
  {
   "cell_type": "markdown",
   "metadata": {},
   "source": [
    "# Homework\n",
    "\n"
   ]
  }
 ],
 "metadata": {
  "language_info": {
   "name": "python"
  }
 },
 "nbformat": 4,
 "nbformat_minor": 2
}
