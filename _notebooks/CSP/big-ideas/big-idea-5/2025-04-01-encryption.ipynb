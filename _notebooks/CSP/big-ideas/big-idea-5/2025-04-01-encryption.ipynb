{
 "cells": [
  {
   "cell_type": "markdown",
   "metadata": {},
   "source": [
    "---\n",
    "layout: post\n",
    "categories: [CSP Sprint Objectives]\n",
    "title: Big Idea 5.4 Safe Computing\n",
    "description:  Software Development using Frontend and Backend Technologies \n",
    "type: issues \n",
    "courses: { csp: {week: 28} }\n",
    "comments: true\n",
    "---"
   ]
  },
  {
   "cell_type": "markdown",
   "metadata": {},
   "source": [
    "## Homework Hack 2"
   ]
  },
  {
   "cell_type": "code",
   "execution_count": null,
   "metadata": {},
   "outputs": [],
   "source": [
    "import random\n",
    "\n",
    "def caesar_cipher(text, shift_value, operation):\n",
    "    transformed_text = []\n",
    "    for character in text:\n",
    "        if character.isalpha():\n",
    "            base = ord('A') if character.isupper() else ord('a')\n",
    "            offset = shift_value if operation == \"encrypt\" else -shift_value\n",
    "            transformed_text.append(chr((ord(character) - base + offset) % 26 + base))\n",
    "        else:\n",
    "            transformed_text.append(character)\n",
    "    return ''.join(transformed_text)\n",
    "\n",
    "# User input handling\n",
    "operation = input(\"Would you like to encrypt or decrypt? \").strip().lower()\n",
    "text_input = input(\"Enter your text: \")\n",
    "shift_value = input(\"Enter shift value (or type 'random' for a random shift): \").strip().lower()\n",
    "\n",
    "# Generate a random shift if \"random\" is entered\n",
    "if shift_value == \"random\":\n",
    "    shift_value = random.randint(1, 25)\n",
    "    print(f\"Randomly selected shift: {shift_value}\")\n",
    "else:\n",
    "    shift_value = int(shift_value)\n",
    "\n",
    "# Execute the cipher function\n",
    "final_output = caesar_cipher(text_input, shift_value, operation)\n",
    "print(f\"Transformed Text: {final_output}\")\n"
   ]
  }
 ],
 "metadata": {
  "language_info": {
   "name": "python"
  }
 },
 "nbformat": 4,
 "nbformat_minor": 2
}
