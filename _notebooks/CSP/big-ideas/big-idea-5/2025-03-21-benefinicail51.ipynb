{
 "cells": [
  {
   "cell_type": "markdown",
   "metadata": {},
   "source": [
    "---\n",
    "layout: post\n",
    "categories: [CSP Sprint Objectives]\n",
    "title: Big Idea 5.1 Beneficial and Harmful Effects\n",
    "description:  Software Development using Frontend and Backend Technologies \n",
    "type: issues \n",
    "courses: { csp: {week: 26} }\n",
    "comments: true\n",
    "---"
   ]
  },
  {
   "cell_type": "markdown",
   "metadata": {},
   "source": [
    "# In Class Notes\n",
    "\n",
    "\n",
    "### Beneficial Effects\n",
    "**Automated Telephone Trees**\n",
    "- Used to redirect calls efficiently.\n",
    "- Saves companies money and reduces hold times.\n",
    "\n",
    "**Science & Technology**\n",
    "- Enabled advancements like MRI scanning and DNA sequencing.\n",
    "- Helped develop vaccines, such as for COVID-19.\n",
    "\n",
    "**Access to Education**\n",
    "- Online encyclopedias, databases, and e-books increase accessibility.\n",
    "- Search engines provide instant access to vast information.\n",
    "\n",
    "### Harmful Effects\n",
    " **Unsafe Use & Cyberbullying**\n",
    "- Children are vulnerable to scams, inappropriate content, and grooming.\n",
    "- Cyberbullying on social media negatively impacts mental health.\n",
    "\n",
    " **Social Media**\n",
    "- Causes anxiety, depression, and low self-esteem in teenagers.\n",
    "- Harmful trends and challenges can lead to dangerous behavior.\n",
    "\n",
    "**Technological Dilemmas: Automated Cars**\n",
    "- **Pro:** Removes human hesitation in life-or-death scenarios.\n",
    "- **Con:** Raises ethical concerns about decision-making in accidents.\n",
    "\n",
    "## Neutral (Both Beneficial & Harmful)\n",
    "**Artificial Intelligence (AI)**\n",
    "- **Pros:** Enhances efficiency, aids students, and improves healthcare.\n",
    "- **Cons:** High energy consumption, misinformation, and decreased critical thinking.\n",
    "\n",
    "**UAVs/Drones**\n",
    "- **Pros:** Useful in search and rescue, wildfire monitoring, and agriculture.\n",
    "- **Cons:** Raises privacy concerns and risks of accidents or misuse in warfare.\n",
    "\n",
    "**Gene Editing**\n",
    "- **Pros:** Can treat genetic diseases and improve agricultural yields.\n",
    "- **Cons:** Risk of unintended consequences, ethical concerns, and regulatory restrictions."
   ]
  },
  {
   "cell_type": "markdown",
   "metadata": {},
   "source": [
    "# Popcorn Hack #1\n",
    "### What do You Think is a Beneficial Effect?\n",
    "A beneficial effect is that technology makes tasks easier and faster, allows for less human error. This could improve fields like healthcare, bussiness, etc.\n",
    "\n",
    "### What do You Think is a Harmful Effect?\n",
    "A harmful effect is that technology can lead to cyberbullying and online scams, and can lead to many future probelms (like ones self esteem or bankrupt cause of scames)"
   ]
  },
  {
   "cell_type": "markdown",
   "metadata": {},
   "source": [
    "# Popcorn Hack #2\n",
    "### What do you think is the most beneficial out of these (or pick your own)? Why? Also, brainstrom additional beneficial effects of technology.\n",
    "I think the most beneficial out of all these topic was definitely the education benefit. With a huge free database access to any type of knowledge allows inpirse amny popel to learn about topics that like and enjoy. This also encourges learning in children which also good."
   ]
  },
  {
   "cell_type": "markdown",
   "metadata": {},
   "source": [
    "# Popcorn Hack #3\n",
    "### Pick a dilema from above. Do you think it’s more beneficial or harmful?\n",
    "I feel like technolgical advancements in the healthcare system specifically has a lot more benefits than harm, becuase peoples lives are now being saved in way that werent possible before. And even with the worries of abusing immoral genetic muation, the US has strict bans gain that and if we were to implemt those regulations, we should be able to minimize the damage that could occur with the super advanced techonlgy we have nowdays."
   ]
  },
  {
   "cell_type": "markdown",
   "metadata": {},
   "source": [
    "# Homework\n",
    "\n",
    "I feel like Social media has more of a harmful effect than a benefical effect especially for one's mental health. It makes people compare themselves to others and feel insecure. Many teenagers seem to spend too much time on social media, which can make them anxious or sad. Cyberbullying is also a big problem and can hurt people emotionally. Even though social media helps people connect, it can cause serious harm if not used carefully."
   ]
  }
 ],
 "metadata": {
  "language_info": {
   "name": "python"
  }
 },
 "nbformat": 4,
 "nbformat_minor": 2
}
